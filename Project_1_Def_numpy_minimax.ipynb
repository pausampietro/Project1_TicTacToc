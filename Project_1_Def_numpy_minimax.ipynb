{
 "cells": [
  {
   "cell_type": "markdown",
   "metadata": {},
   "source": [
    "# General"
   ]
  },
  {
   "cell_type": "code",
   "execution_count": 1,
   "metadata": {},
   "outputs": [],
   "source": [
    "import matplotlib.pyplot as plt\n",
    "import random\n",
    "import numpy as np\n",
    "import copy\n",
    "\n",
    "global plg, actual_turn\n",
    "\n",
    "# definition of general parameters\n",
    "max_turns = 9\n",
    "max_turns = min(max_turns, 9)"
   ]
  },
  {
   "cell_type": "markdown",
   "metadata": {},
   "source": [
    "# Logical Functions"
   ]
  },
  {
   "cell_type": "code",
   "execution_count": 2,
   "metadata": {},
   "outputs": [],
   "source": [
    "# randomly returns a string with the starting player: 'user' or 'pc'\n",
    "def starting_one():\n",
    "    players = ['user', 'pc']\n",
    "    return (players[random.randrange(0, 2)])"
   ]
  },
  {
   "cell_type": "code",
   "execution_count": 3,
   "metadata": {},
   "outputs": [],
   "source": [
    "# returns true is the given coordinates match with an empty space in the playground\n",
    "def empty_cell(x, y):\n",
    "    return plg[2-y][x] == 0\n",
    "\n",
    "def empty_cell_pc(x, y):\n",
    "    return plg[x][y] == 0"
   ]
  },
  {
   "cell_type": "code",
   "execution_count": 4,
   "metadata": {},
   "outputs": [],
   "source": [
    "# updates the variable plg filling the position (x,y) with or 1 or -1 \n",
    "def update_plg_user(bin, x, y):\n",
    "    plg[2-y][x] = bin\n",
    "    \n",
    "# updates the variable plg filling the position (x,y) with or 1 or -1\n",
    "def update_plg_pc(bin, x, y):\n",
    "    plg[x][y] = bin"
   ]
  },
  {
   "cell_type": "code",
   "execution_count": 5,
   "metadata": {},
   "outputs": [],
   "source": [
    "# returns the name of the winner or an empty string if there is still no winner in the game\n",
    "def who_wins():\n",
    "    winner = ''\n",
    "    plg_a = np.array(plg)\n",
    "    \n",
    "    if np.trace(plg_a) == 3 or np.trace(np.fliplr(plg_a)) == 3:  # checking the diagonals\n",
    "        winner = 'user'\n",
    "    elif np.trace(plg_a) == -3 or np.trace(np.fliplr(plg_a)) == -3:\n",
    "        winner = 'pc'\n",
    "    else:\n",
    "        for i in range(3):\n",
    "            if plg_a.sum(axis=1)[i] == 3 or plg_a.sum(axis=0)[i] == 3:  # before 'or': check X axis, after 'or': check Y axis)\n",
    "                winner = 'user'\n",
    "                break\n",
    "            elif plg_a.sum(axis=1)[i] == -3 or plg_a.sum(axis=0)[i] == -3:\n",
    "                winner = 'pc'\n",
    "                break\n",
    "            else:\n",
    "                winner = ''\n",
    "\n",
    "    return (winner)"
   ]
  },
  {
   "cell_type": "code",
   "execution_count": 6,
   "metadata": {},
   "outputs": [],
   "source": [
    "# asks the user for the x,y coordinates of his/her move, checks if x,y are inside the playground and return them.\n",
    "def user_move():\n",
    "    options = ['1', '2', '3']\n",
    "    choosen_x = ''\n",
    "    choosen_y = ''\n",
    "    while choosen_x not in options:\n",
    "        # check if its an integer\n",
    "        choosen_x = input(\"Indicate de X coordinate of your move (1,2,3)\")\n",
    "    while choosen_y not in options:\n",
    "        # check if its an integer\n",
    "        choosen_y = input(\"Indicate de Y coordinate of your move (1,2,3)\")\n",
    "\n",
    "    return (int(choosen_x) - 1), (int(choosen_y) - 1)"
   ]
  },
  {
   "cell_type": "code",
   "execution_count": 7,
   "metadata": {},
   "outputs": [],
   "source": [
    "# This function does the pc strategic move (included the check for empty cells)\n",
    "def pc_move():\n",
    "    #attaking ->> looking for alignment of two '-1' and putting the third\n",
    "    found = False\n",
    "    plg_a = np.array(plg)\n",
    "    \n",
    "    if np.trace(plg_a) == -2:   # checking oportunity in diagonal\n",
    "        found = True\n",
    "        if plg[0][0] == 0:\n",
    "            return 0, 0\n",
    "        elif plg[1][1] == 0:\n",
    "            return 1, 1\n",
    "        else:\n",
    "            return 2, 2\n",
    "    elif np.trace(np.fliplr(plg_a))== -2:  # checking oportunity in other diagonal \n",
    "        found = True\n",
    "        if plg[2][0] == 0:\n",
    "            return 2, 0\n",
    "        elif plg[1][1] == 0:\n",
    "            return 1, 1\n",
    "        else:\n",
    "            return 0, 2\n",
    "    else:\n",
    "        for i in range(3):\n",
    "            if plg_a.sum(axis=1)[i] == -2:  # checking opportunity in horitzontal (x3 rows)\n",
    "                found = True\n",
    "                if plg[i][0] == 0:\n",
    "                    return i, 0\n",
    "                    break\n",
    "                elif plg[i][1] == 0:\n",
    "                    return i, 1\n",
    "                    break\n",
    "                else: \n",
    "                    return i, 2\n",
    "                    break\n",
    "            elif plg_a.sum(axis=0)[i] == -2:  # checking opportunity in vertical (x3 columns)\n",
    "                found = True\n",
    "                if plg[0][i] == 0:\n",
    "                    return 0, i\n",
    "                    break\n",
    "                elif plg[1][i] == 0:\n",
    "                    return 1, i\n",
    "                    break\n",
    "                else:\n",
    "                    return 2, i\n",
    "                    break\n",
    "    \n",
    "    #defending ->> looking for alignment of two '1' and blocking the third\n",
    "    if np.trace(plg_a) == 2:   # checking oportunity in diagonal\n",
    "        found = True\n",
    "        if plg[0][0] == 0:\n",
    "            return 0, 0\n",
    "        elif plg[1][1] == 0:\n",
    "            return 1, 1\n",
    "        else:\n",
    "            return 2, 2\n",
    "    elif np.trace(np.fliplr(plg_a))== 2:  # checking oportunity in other diagonal \n",
    "        found = True\n",
    "        if plg[2][0] == 0:\n",
    "            return 2, 0\n",
    "        elif plg[1][1] == 0:\n",
    "            return 1, 1\n",
    "        else:\n",
    "            return 0, 2\n",
    "    else:\n",
    "        for i in range(3):\n",
    "            if plg_a.sum(axis=1)[i] == 2:  # checking opportunity in horitzontal (x3 rows)\n",
    "                found = True\n",
    "                if plg[i][0] == 0:\n",
    "                    return i, 0\n",
    "                    break\n",
    "                elif plg[i][1] == 0:\n",
    "                    return i, 1\n",
    "                    break\n",
    "                else: \n",
    "                    return i, 2\n",
    "                    break\n",
    "            elif plg_a.sum(axis=0)[i] == 2:  # checking opportunity in vertical (x3 columns)\n",
    "                found = True\n",
    "                if plg[0][i] == 0:\n",
    "                    return 0, i\n",
    "                    break\n",
    "                elif plg[1][i] == 0:\n",
    "                    return 1, i\n",
    "                    break\n",
    "                else:\n",
    "                    return 2, i\n",
    "                    break\n",
    "    # There's no opportunity to win or block: RANDOM GAME\n",
    "    if not found: \n",
    "        pc_x = random.randrange(0, 3)\n",
    "        pc_y = random.randrange(0, 3)\n",
    "        while not empty_cell_pc(pc_x, pc_y):\n",
    "            pc_x = random.randrange(0, 3)\n",
    "            pc_y = random.randrange(0, 3)\n",
    "        plg_aux = plg\n",
    "        plg_aux[pc_x][pc_y] = -1\n",
    "        counter = 0\n",
    "        while solve(plg_aux) == 'X wins!' and counter < 9: \n",
    "            pc_x = random.randrange(0, 3)\n",
    "            pc_y = random.randrange(0, 3)\n",
    "            while not empty_cell_pc(pc_x, pc_y):\n",
    "                pc_x = random.randrange(0, 3)\n",
    "                pc_y = random.randrange(0, 3)\n",
    "            plg_aux = plg\n",
    "            plg_aux[pc_x][pc_y] = -1\n",
    "            counter += 1\n",
    "        return pc_x, pc_y"
   ]
  },
  {
   "cell_type": "markdown",
   "metadata": {},
   "source": [
    "# Minimax Algorithm"
   ]
  },
  {
   "cell_type": "code",
   "execution_count": 8,
   "metadata": {},
   "outputs": [],
   "source": [
    "# Square definitions\n",
    "X_SQUARE = 1\n",
    "O_SQUARE = -1\n",
    "BLANK = 0\n",
    "\n",
    "# Evaluation definitions\n",
    "X_WINS = 'X wins!'\n",
    "O_WINS = 'O wins!'\n",
    "DRAW = 'Draw!'\n",
    "\n",
    "# Returns true if X's turn to move, false otherwise\n",
    "def is_X_turn(plg):\n",
    "    x_count = 0\n",
    "    for row in plg:\n",
    "        x_count += row.count(X_SQUARE)\n",
    "        x_count -= row.count(O_SQUARE)\n",
    "    return x_count == 0\n",
    "\n",
    "# Returns true if every space is taken, false otherwise\n",
    "def is_full(plg):\n",
    "    for row in plg:\n",
    "        if BLANK in row:\n",
    "            return False\n",
    "    return True\n",
    "\n",
    "# Takes a position, and returns a list of every position that can result from a move\n",
    "def get_branches(plg, X_turn):\n",
    "    symbol = X_SQUARE if X_turn else O_SQUARE\n",
    "    branches = []\n",
    "    for row in range(3):\n",
    "        for square in range(3):\n",
    "            if plg[row][square] == BLANK:\n",
    "                branches.append(copy.deepcopy(plg))\n",
    "                branches[-1][row][square] = symbol\n",
    "    return branches\n",
    "\n",
    "# Checks for three in a row in the current position, returns evaluation\n",
    "def get_static_eval(plg):\n",
    "    potential_wins = []\n",
    "\n",
    "    # Three in a row\n",
    "    for row in plg:\n",
    "        potential_wins.append(set(row))\n",
    "\n",
    "    # Three in a column\n",
    "    for i in range(3):\n",
    "        potential_wins.append(set([plg[k][i] for k in range(3)]))\n",
    "\n",
    "    # Three in a diagonal\n",
    "    potential_wins.append(set([plg[i][i] for i in range(3)]))\n",
    "    potential_wins.append(set([plg[i][2 - i] for i in range(3)]))\n",
    "\n",
    "    # Checking if any three are the same\n",
    "    for trio in potential_wins:\n",
    "        if trio == set([X_SQUARE]):\n",
    "            return X_WINS\n",
    "        elif trio == set([O_SQUARE]):\n",
    "            return O_WINS\n",
    "    return DRAW\n",
    "\n",
    "# Returns the dynamic evaluation of any valid position\n",
    "def solve(plg):\n",
    "    # Immediately return the static evaluation if it is decisive\n",
    "    static_eval = get_static_eval(plg)\n",
    "    if static_eval != DRAW:\n",
    "        return static_eval\n",
    "\n",
    "    # Check for full board\n",
    "    if is_full(plg):\n",
    "        return DRAW\n",
    "\n",
    "    # Checking and evaluating every path\n",
    "    X_turn = is_X_turn(plg)\n",
    "    branches = get_branches(plg, X_turn)\n",
    "    branch_evals = [solve(branch) for branch in branches]\n",
    "\n",
    "    # Returning the result assuming best play\n",
    "    if X_turn:\n",
    "        # X options from best to worst\n",
    "        if X_WINS in branch_evals:\n",
    "            return X_WINS\n",
    "        elif DRAW in branch_evals:\n",
    "            return DRAW\n",
    "        else:\n",
    "            return O_WINS\n",
    "    else:\n",
    "        # O options from best to worst\n",
    "        if O_WINS in branch_evals:\n",
    "            return O_WINS\n",
    "        elif DRAW in branch_evals:\n",
    "            return DRAW\n",
    "        else:\n",
    "            return X_WINS"
   ]
  },
  {
   "cell_type": "markdown",
   "metadata": {},
   "source": [
    "# Plot Functions"
   ]
  },
  {
   "cell_type": "code",
   "execution_count": 9,
   "metadata": {},
   "outputs": [],
   "source": [
    "# generate and plot the playground\n",
    "def plot_plg():\n",
    "    v0 = [(0, 0), (0, 12)]\n",
    "    v1 = [(4, 4), (0, 12)]\n",
    "    v2 = [(8, 8), (0, 12)]\n",
    "    v3 = [(12, 12), (0, 12)]\n",
    "    h0 = [(0, 12), (0, 0)]\n",
    "    h1 = [(0, 12), (4, 4)]\n",
    "    h2 = [(0, 12), (8, 8)]\n",
    "    h3 = [(0, 12), (12, 12)]\n",
    "\n",
    "    plt.plot(v0[0], v0[1], v1[0], v1[1], v2[0], v2[1], v3[0], v3[1])\n",
    "    plt.plot(h0[0], h0[1], h1[0], h1[1], h2[0], h2[1], h3[0], h3[1])\n",
    "\n",
    "    for j in range(3):\n",
    "        for k in range(3):\n",
    "            yc = 10 - j * 4  # changing reference (from PLG indexes to PLOT coordinates) -->> DEFINING CENTER OF FIGURES\n",
    "            xc = 2 + k * 4\n",
    "            if plg[j][k] == 1:  # plot a 'cross' by a vert. and a horit. line from a given center (xc,yc)\n",
    "                vl = [(xc, xc, xc), (yc - 1, yc, yc + 1)]\n",
    "                hl = [(xc - 1, xc, xc + 1), (yc, yc, yc)]\n",
    "                plt.plot(vl[0], vl[1], hl[0], hl[1])\n",
    "            elif plg[j][k] == -1:  # plot a 'circle' by 4 lines from a given center (xc,yc)\n",
    "                se = [(xc, xc + 1), (yc - 1, yc)]\n",
    "                ne = [(xc, xc + 1), (yc + 1, yc)]\n",
    "                no = [(xc, xc - 1), (yc + 1, yc)]\n",
    "                so = [(xc, xc - 1), (yc - 1, yc)]\n",
    "                plt.plot(se[0], se[1], ne[0], ne[1], no[0], no[1], so[0], so[1])\n",
    "\n",
    "    # visualization\n",
    "    #plt.axis('off')\n",
    "    plt.xlabel('X:  1                2                 3', fontsize=16)\n",
    "    plt.ylabel('Y:  1           2           3', fontsize=16)\n",
    "    plt.xticks([])\n",
    "    plt.yticks([])\n",
    "    plt.box(on=None)\n",
    "    print(\"PRESENT TABLETOP:\")\n",
    "    plt.show()"
   ]
  },
  {
   "cell_type": "markdown",
   "metadata": {},
   "source": [
    "# Main Flow"
   ]
  },
  {
   "cell_type": "code",
   "execution_count": 10,
   "metadata": {
    "scrolled": false
   },
   "outputs": [
    {
     "name": "stdout",
     "output_type": "stream",
     "text": [
      "PRESENT TABLETOP:\n"
     ]
    },
    {
     "data": {
      "image/png": "[encoded data removed]",
      "text/plain": [
       "<Figure size 432x288 with 1 Axes>"
      ]
     },
     "metadata": {},
     "output_type": "display_data"
    },
    {
     "name": "stdout",
     "output_type": "stream",
     "text": [
      "Indicate de X coordinate of your move (1,2,3)2\n",
      "Indicate de Y coordinate of your move (1,2,3)2\n",
      "PRESENT TABLETOP:\n"
     ]
    },
    {
     "data": {
      "image/png": "[encoded data removed]",
      "text/plain": [
       "<Figure size 432x288 with 1 Axes>"
      ]
     },
     "metadata": {},
     "output_type": "display_data"
    },
    {
     "name": "stdout",
     "output_type": "stream",
     "text": [
      "Remaining turns: 8\n",
      "Winner: \n",
      "PRESENT TABLETOP:\n"
     ]
    },
    {
     "data": {
      "image/png": "[encoded data removed]",
      "text/plain": [
       "<Figure size 432x288 with 1 Axes>"
      ]
     },
     "metadata": {},
     "output_type": "display_data"
    },
    {
     "name": "stdout",
     "output_type": "stream",
     "text": [
      "PC move was: (3,3)\n",
      "Remaining turns: 7\n",
      "Winner: \n",
      "Indicate de X coordinate of your move (1,2,3)2\n",
      "Indicate de Y coordinate of your move (1,2,3)1\n",
      "PRESENT TABLETOP:\n"
     ]
    },
    {
     "data": {
      "image/png": "[encoded data removed]",
      "text/plain": [
       "<Figure size 432x288 with 1 Axes>"
      ]
     },
     "metadata": {},
     "output_type": "display_data"
    },
    {
     "name": "stdout",
     "output_type": "stream",
     "text": [
      "Remaining turns: 6\n",
      "Winner: \n",
      "PRESENT TABLETOP:\n"
     ]
    },
    {
     "data": {
      "image/png": "[encoded data removed]",
      "text/plain": [
       "<Figure size 432x288 with 1 Axes>"
      ]
     },
     "metadata": {},
     "output_type": "display_data"
    },
    {
     "name": "stdout",
     "output_type": "stream",
     "text": [
      "PC move was: (2,3)\n",
      "Remaining turns: 5\n",
      "Winner: \n",
      "Indicate de X coordinate of your move (1,2,3)1\n",
      "Indicate de Y coordinate of your move (1,2,3)3\n",
      "PRESENT TABLETOP:\n"
     ]
    },
    {
     "data": {
      "image/png": "[encoded data removed]",
      "text/plain": [
       "<Figure size 432x288 with 1 Axes>"
      ]
     },
     "metadata": {},
     "output_type": "display_data"
    },
    {
     "name": "stdout",
     "output_type": "stream",
     "text": [
      "Remaining turns: 4\n",
      "Winner: \n",
      "PRESENT TABLETOP:\n"
     ]
    },
    {
     "data": {
      "image/png": "[encoded data removed]",
      "text/plain": [
       "<Figure size 432x288 with 1 Axes>"
      ]
     },
     "metadata": {},
     "output_type": "display_data"
    },
    {
     "name": "stdout",
     "output_type": "stream",
     "text": [
      "PC move was: (3,1)\n",
      "Remaining turns: 3\n",
      "Winner: \n",
      "Indicate de X coordinate of your move (1,2,3)3\n",
      "Indicate de Y coordinate of your move (1,2,3)2\n",
      "PRESENT TABLETOP:\n"
     ]
    },
    {
     "data": {
      "image/png": "[encoded data removed]",
      "text/plain": [
       "<Figure size 432x288 with 1 Axes>"
      ]
     },
     "metadata": {},
     "output_type": "display_data"
    },
    {
     "name": "stdout",
     "output_type": "stream",
     "text": [
      "Remaining turns: 2\n",
      "Winner: \n",
      "PRESENT TABLETOP:\n"
     ]
    },
    {
     "data": {
      "image/png": "[encoded data removed]",
      "text/plain": [
       "<Figure size 432x288 with 1 Axes>"
      ]
     },
     "metadata": {},
     "output_type": "display_data"
    },
    {
     "name": "stdout",
     "output_type": "stream",
     "text": [
      "PC move was: (1,2)\n",
      "Remaining turns: 1\n",
      "Winner: \n",
      "Indicate de X coordinate of your move (1,2,3)1\n",
      "Indicate de Y coordinate of your move (1,2,3)1\n",
      "PRESENT TABLETOP:\n"
     ]
    },
    {
     "data": {
      "image/png": "[encoded data removed]",
      "text/plain": [
       "<Figure size 432x288 with 1 Axes>"
      ]
     },
     "metadata": {},
     "output_type": "display_data"
    },
    {
     "name": "stdout",
     "output_type": "stream",
     "text": [
      "Remaining turns: 0\n",
      "Winner: \n",
      "The game ended in a tie. Do you want to play again?\n"
     ]
    }
   ],
   "source": [
    "# initialize turn 1 and empty playground\n",
    "plg = [[0, 0, 0], [0, 0, 0], [0, 0, 0]]\n",
    "actual_turn = 1\n",
    "st_one = starting_one()\n",
    "win = False\n",
    "\n",
    "if st_one == 'user':\n",
    "    plot_plg()\n",
    "    # First turn for the user (randomly selected)(not checking a victory because it is impossible by now)\n",
    "    user_x, user_y = user_move()\n",
    "    while not empty_cell(user_x, user_y):\n",
    "        print('The selected cell is already filled')\n",
    "        user_x, user_y = user_move()\n",
    "\n",
    "    update_plg_user(1, user_x, user_y)  # update the playground (plg matrix) placing a 1\n",
    "    plot_plg()\n",
    "    print(f'Remaining turns: {max_turns-actual_turn}')\n",
    "    print(f'Winner: {who_wins()}')\n",
    "    actual_turn += 1\n",
    "    \n",
    "    \n",
    "    # 2nd to 8th turns or until a victory\n",
    "    while actual_turn < max_turns and not win:\n",
    "        # PC's TURN\n",
    "        pc_x, pc_y = pc_move()\n",
    "        update_plg_pc(-1, pc_x, pc_y)  # update the playground (plg matrix) placing a -1 \n",
    "        plot_plg()\n",
    "        print(f'PC move was: ({pc_y+1},{2-pc_x+1})')\n",
    "        print(f'Remaining turns: {max_turns-actual_turn}')\n",
    "        print(f'Winner: {who_wins()}')\n",
    "        actual_turn += 1\n",
    "        if who_wins() == 'pc':  # If pc wins with its move, the game ends.\n",
    "            print(\"You have lost against Python...Try again!\")\n",
    "            win = True\n",
    "        else:\n",
    "            # USER'S TURN\n",
    "            user_x, user_y = user_move()\n",
    "            while not empty_cell(user_x, user_y):\n",
    "                print('The selected cell is already filled')\n",
    "                user_x, user_y = user_move()\n",
    "\n",
    "            update_plg_user(1, user_x, user_y)  # update the playground (plg matrix) placing a 1\n",
    "            plot_plg()\n",
    "            print(f'Remaining turns: {max_turns-actual_turn}')\n",
    "            print(f'Winner: {who_wins()}')\n",
    "            actual_turn += 1\n",
    "            if who_wins() == 'user':  # If pc wins with its move, the game ends.\n",
    "                print(\"You have win...Congratulations 'Master of Strategy'!!!\")\n",
    "                win = True\n",
    "\n",
    "\n",
    "elif st_one == 'pc':\n",
    "    print(\"PC has started playing. Now it's your turn!\")\n",
    "    # First turn for the pc (randomly selected)(not checking a victory because it is impossible by now)\n",
    "    pc_x, pc_y = pc_move()\n",
    "    update_plg_pc(-1, pc_x, pc_y)  # update the playground (plg matrix) placing a -1 \n",
    "    plot_plg()\n",
    "    print(f'PC move was: ({pc_y+1},{2-pc_x+1})')\n",
    "    print(f'Remaining turns: {max_turns-actual_turn}')\n",
    "    print(f'Winner: {who_wins()}')\n",
    "    actual_turn += 1\n",
    "    \n",
    "    # 2nd to 8th turns or until a victory\n",
    "    while actual_turn < max_turns and not win:\n",
    "        # USER'S TURN\n",
    "        user_x, user_y = user_move()\n",
    "        while not empty_cell(user_x, user_y):\n",
    "            print('The selected cell is already filled')\n",
    "            user_x, user_y = user_move()\n",
    "\n",
    "        update_plg_user(1, user_x, user_y)  # update the playground (plg matrix) placing a 1\n",
    "        plot_plg()\n",
    "        print(f'Remaining turns: {max_turns-actual_turn}')\n",
    "        print(f'Winner: {who_wins()}')\n",
    "        actual_turn += 1\n",
    "        if who_wins() == 'user':  # If pc wins with its move, the game ends.\n",
    "            print(\"You have win...Congratulations 'Master of Strategy'!!!\")\n",
    "            win= True\n",
    "        else:\n",
    "            # PC's TURN\n",
    "            pc_x, pc_y = pc_move()\n",
    "            update_plg_pc(-1, pc_x, pc_y)  # update the playground (plg matrix) placing a -1 \n",
    "            plot_plg()\n",
    "            print(f'PC move was: ({pc_y+1},{2-pc_x+1})')\n",
    "            print(f'Remaining turns: {max_turns-actual_turn}')\n",
    "            print(f'Winner: {who_wins()}')\n",
    "            actual_turn += 1\n",
    "            if who_wins() == 'pc':  # If pc wins with its move, the game ends.\n",
    "                print(\"You have lost against Python...Try again!\")\n",
    "                win = True\n",
    "\n",
    "if not win:\n",
    "    print(\"The game ended in a tie. Do you want to play again?\")"
   ]
  },
  {
   "cell_type": "code",
   "execution_count": null,
   "metadata": {},
   "outputs": [],
   "source": []
  },
  {
   "cell_type": "code",
   "execution_count": null,
   "metadata": {},
   "outputs": [],
   "source": []
  }
 ],
 "metadata": {
  "kernelspec": {
   "display_name": "Python 3",
   "language": "python",
   "name": "python3"
  },
  "language_info": {
   "codemirror_mode": {
    "name": "ipython",
    "version": 3
   },
   "file_extension": ".py",
   "mimetype": "text/x-python",
   "name": "python",
   "nbconvert_exporter": "python",
   "pygments_lexer": "ipython3",
   "version": "3.7.1"
  }
 },
 "nbformat": 4,
 "nbformat_minor": 2
}
