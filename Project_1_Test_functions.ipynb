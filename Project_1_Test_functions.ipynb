{
 "cells": [
  {
   "cell_type": "code",
   "execution_count": 67,
   "metadata": {},
   "outputs": [
    {
     "data": {
      "text/plain": [
       "(0, 1)"
      ]
     },
     "execution_count": 67,
     "metadata": {},
     "output_type": "execute_result"
    }
   ],
   "source": [
    "import random\n",
    "global plg\n",
    "\n",
    "plg=[[-1, 0, -1], \n",
    "     [1, 1, 0], \n",
    "     [0, 1, 0]]\n",
    "\n",
    "def empty_cell(x, y):\n",
    "    return plg[2-y][x] == 0\n",
    "\n",
    "def pc_move():\n",
    "    #defending()\n",
    "    #attaking()\n",
    "    found = False\n",
    "    \n",
    "    if plg[0][0] + plg[1][1] + plg[2][2] == -2:  # checking oportunity in diagonal\n",
    "        found = True\n",
    "        if plg[0][0] == 0:\n",
    "            return 0, 0\n",
    "        elif plg[1][1] == 0:\n",
    "            return 1, 1\n",
    "        else:\n",
    "            return 2, 2\n",
    "    \n",
    "    elif plg[2][0] + plg[1][1] + plg[0][2] == -2:  # checking oportunity in other diagonal \n",
    "        Found = True\n",
    "        if plg[2][0] == 0:\n",
    "            return 2, 0\n",
    "        elif plg[1][1] == 0:\n",
    "            return 1, 1\n",
    "        else:\n",
    "            return 0, 2\n",
    "    else:\n",
    "        for i in range(3):\n",
    "            if sum(plg[i]) == -2:  # checking opportunity in horitzontal (x3 rows)\n",
    "                found = True\n",
    "                if plg[i][0] == 0:\n",
    "                    return i, 0\n",
    "                    break\n",
    "                elif plg[i][1] == 0:\n",
    "                    return i, 1\n",
    "                    break\n",
    "                else: \n",
    "                    return i, 2\n",
    "                    break\n",
    "            elif (plg[0][i] + plg[1][i] + plg[2][i]) == -2:  # checking opportunity in vertical (x3 columns)\n",
    "                found = True\n",
    "                if plg[0][i] == 0:\n",
    "                    return 0, i\n",
    "                    break\n",
    "                elif plg[1][i] == 0:\n",
    "                    return 1, i\n",
    "                    break\n",
    "                else:\n",
    "                    return 2, i\n",
    "                    break\n",
    "              \n",
    "    \n",
    "    if not found: # There's no opportunity to win: RANDOM GAME\n",
    "        pc_x = random.randrange(0, 3)\n",
    "        pc_y = random.randrange(0, 3)\n",
    "        while not empty_cell(pc_x, pc_y):\n",
    "            pc_x = random.randrange(0, 3)\n",
    "            pc_y = random.randrange(0, 3)\n",
    "        return pc_x, pc_y\n",
    "                \n",
    "\n",
    "pc_move()"
   ]
  },
  {
   "cell_type": "code",
   "execution_count": 59,
   "metadata": {},
   "outputs": [
    {
     "name": "stdout",
     "output_type": "stream",
     "text": [
      "2\n",
      "2\n",
      "1\n",
      "1\n",
      "0\n",
      "2\n",
      "2\n",
      "0\n",
      "2\n",
      "0\n"
     ]
    }
   ],
   "source": [
    "print(random.randrange(0, 3))\n",
    "print(random.randrange(0, 3))\n",
    "print(random.randrange(0, 3))\n",
    "print(random.randrange(0, 3))\n",
    "print(random.randrange(0, 3))\n",
    "print(random.randrange(0, 3))\n",
    "print(random.randrange(0, 3))\n",
    "print(random.randrange(0, 3))\n",
    "print(random.randrange(0, 3))\n",
    "print(random.randrange(0, 3))\n",
    "\n"
   ]
  },
  {
   "cell_type": "code",
   "execution_count": null,
   "metadata": {},
   "outputs": [],
   "source": []
  },
  {
   "cell_type": "code",
   "execution_count": null,
   "metadata": {},
   "outputs": [],
   "source": []
  }
 ],
 "metadata": {
  "kernelspec": {
   "display_name": "Python 3",
   "language": "python",
   "name": "python3"
  },
  "language_info": {
   "codemirror_mode": {
    "name": "ipython",
    "version": 3
   },
   "file_extension": ".py",
   "mimetype": "text/x-python",
   "name": "python",
   "nbconvert_exporter": "python",
   "pygments_lexer": "ipython3",
   "version": "3.7.1"
  }
 },
 "nbformat": 4,
 "nbformat_minor": 2
}
