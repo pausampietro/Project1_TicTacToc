{
 "cells": [
  {
   "cell_type": "code",
   "execution_count": 48,
   "metadata": {},
   "outputs": [],
   "source": [
    "import random"
   ]
  },
  {
   "cell_type": "code",
   "execution_count": 34,
   "metadata": {},
   "outputs": [],
   "source": [
    "#randomly returns a string with the starting player: 'user' or 'pc'\n",
    "def starting_one():\n",
    "    players = ['user','pc']\n",
    "    return(players[random.randrange(0,2)])\n",
    "\n"
   ]
  },
  {
   "cell_type": "code",
   "execution_count": 7,
   "metadata": {},
   "outputs": [],
   "source": [
    "#asks the user for the x,y coordinates of his/her move, checks if x,y are inside the playground and return them.\n",
    "def user_move():\n",
    "    options = ['1','2','3']\n",
    "    choosen_x = ''\n",
    "    choosen_y = ''\n",
    "    while choosen_x not in options:\n",
    "        #check if its an integer\n",
    "        choosen_x = input(\"Indicate de X coordinate of your move (1,2,3)\")\n",
    "    while choosen_y not in options:\n",
    "        #check if its an integer\n",
    "        choosen_y = input(\"Indicate de Y coordinate of your move (1,2,3)\")\n",
    "    \n",
    "    return (int(choosen_x)-1,int(choosen_y)-1)\n",
    "\n",
    "#user_x, user_y = user_move()"
   ]
  },
  {
   "cell_type": "code",
   "execution_count": 55,
   "metadata": {},
   "outputs": [
    {
     "data": {
      "text/plain": [
       "(1, 2)"
      ]
     },
     "execution_count": 55,
     "metadata": {},
     "output_type": "execute_result"
    }
   ],
   "source": [
    "global plg \n",
    "\n",
    "plg =[(-1,0,0),\n",
    "      (1,1,0),\n",
    "      (1,-1,-1)]\n",
    "\n",
    "#This function does the pc strategic move (included the check for empty cells)\n",
    "def pc_move():\n",
    "    if plg[0][0] + plg[1][1] + plg[2][2] == -2:    #checking oportunity in diagonal\n",
    "        if plg[0][0] == 0:\n",
    "            return 0,0\n",
    "        elif plg[1][1] == 0:\n",
    "            return 1,1\n",
    "        else:\n",
    "            return 2,2\n",
    "    elif plg[2][0] + plg[1][1] + plg[0][2] == -2:   #checking oportunity in other diagonal \n",
    "        if plg[2][0] == 0:\n",
    "            return 2,0\n",
    "        elif plg[1][1] == 0:\n",
    "            return 1,1\n",
    "        else:\n",
    "            return 0,2\n",
    "    else:\n",
    "        for i in range(3):                  \n",
    "            if sum(plg[i]) == -2:              #checking opportunity in horitzontal (x3 rows)\n",
    "                if plg[i][0] == 0:\n",
    "                    return i,0\n",
    "                elif plg[i][1] == 0:\n",
    "                    return i,1\n",
    "                else:\n",
    "                    return i,2\n",
    "            elif plg[0][i] + plg[1][i] + plg[2][i] == -2:       #checking opportunity in vertical (x3 columns)\n",
    "                if plg[0][i] == 0:\n",
    "                    return 0,i\n",
    "                elif plg[1][i] == 0:\n",
    "                    return 1,i\n",
    "                else:\n",
    "                    return 2,i\n",
    "            else:                                      #There's no opportunity to win: RANDOM GAME\n",
    "                pc_x = random.randrange(0,3)\n",
    "                pc_y = random.randrange(0,3)\n",
    "                while not empty_cell(pc_x,pc_y):\n",
    "                    pc_x = random.randrange(0,3)\n",
    "                    pc_y = random.randrange(0,3)\n",
    "                return pc_x,pc_y\n",
    "\n",
    "pc_move()"
   ]
  },
  {
   "cell_type": "code",
   "execution_count": 20,
   "metadata": {},
   "outputs": [
    {
     "data": {
      "text/plain": [
       "False"
      ]
     },
     "execution_count": 20,
     "metadata": {},
     "output_type": "execute_result"
    }
   ],
   "source": [
    "global plg \n",
    "\n",
    "plg =[(0,0,0),(0,1,0),(1,0,0)]\n",
    "\n",
    "#returns true is the given coordinates match with an empty space in the playground\n",
    "def empty_cell(x,y):\n",
    "    return plg[2-y][x] == 0\n"
   ]
  },
  {
   "cell_type": "code",
   "execution_count": 40,
   "metadata": {},
   "outputs": [],
   "source": [
    "global plg \n",
    "\n",
    "plg =[(-1,-1,1),\n",
    "      (1,1,0),\n",
    "      (1,-1,-1)]\n",
    "\n",
    "\n",
    "#returns the name of the winner or an empty string if there is still no winner in the game\n",
    "def who_wins():\n",
    "    winner = ''\n",
    "    if plg[0][0] + plg[1][1] + plg[2][2] == 3 or plg[0][2] + plg[1][1] + plg[2][0] == 3:        #checking the diagonals\n",
    "        winner = 'user'\n",
    "    elif plg[0][0] + plg[1][1] + plg[2][2] == -3 or plg[0][2] + plg[1][1] + plg[2][0] == -3:      \n",
    "        winner = 'pc'\n",
    "    else:\n",
    "        for i in range(3):\n",
    "            if sum(plg[i]) == 3 or plg[0][i] + plg[1][i] + plg[2][i] == 3:      #before 'or': check X axis, after 'or': check Y axis)\n",
    "                winner = 'user'\n",
    "                break\n",
    "            elif sum(plg[i]) == -3 or plg[0][i] + plg[1][i] + plg[2][i] == -3:      \n",
    "                winner = 'pc'\n",
    "                break\n",
    "            else:\n",
    "                winner = ''\n",
    "        \n",
    "    return(winner)"
   ]
  },
  {
   "cell_type": "code",
   "execution_count": 64,
   "metadata": {},
   "outputs": [
    {
     "name": "stdout",
     "output_type": "stream",
     "text": [
      "[[-1, -1, 1], [1, 1, 0], [1, -1, -1]]\n",
      "[[-1, -1, 1], [1, 1, 6], [1, -1, -1]]\n"
     ]
    }
   ],
   "source": [
    "global plg \n",
    "\n",
    "plg =[[-1,-1,1],\n",
    "      [1,1,0],\n",
    "      [1,-1,-1]]\n",
    "\n",
    "\n",
    "def update_plg(bin,x,y):\n",
    "    plg[x][y]=bin\n",
    "    \n",
    "\n",
    "print(plg)\n",
    "update_plg(6,1,2)\n",
    "print(plg)\n",
    "    "
   ]
  },
  {
   "cell_type": "code",
   "execution_count": null,
   "metadata": {},
   "outputs": [],
   "source": [
    "def plot_plg():\n",
    "    "
   ]
  },
  {
   "cell_type": "code",
   "execution_count": 68,
   "metadata": {},
   "outputs": [],
   "source": [
    "global plg\n",
    "\n",
    "\n",
    "# This function does the pc strategic move (included the check for empty cells)\n",
    "def pc_move():\n",
    "    #attaking ->> looking for alignment of two '-1' and putting the third\n",
    "    found = False\n",
    "    \n",
    "    if plg[0][0] + plg[1][1] + plg[2][2] == -2:  # checking oportunity in diagonal\n",
    "        found = True\n",
    "        if plg[0][0] == 0:\n",
    "            return 0, 0\n",
    "        elif plg[1][1] == 0:\n",
    "            return 1, 1\n",
    "        else:\n",
    "            return 2, 2\n",
    "    elif plg[2][0] + plg[1][1] + plg[0][2] == -2:  # checking oportunity in other diagonal \n",
    "        found = True\n",
    "        if plg[2][0] == 0:\n",
    "            return 2, 0\n",
    "        elif plg[1][1] == 0:\n",
    "            return 1, 1\n",
    "        else:\n",
    "            return 0, 2\n",
    "    else:\n",
    "        for i in range(3):\n",
    "            if sum(plg[i]) == -2:  # checking opportunity in horitzontal (x3 rows)\n",
    "                found = True\n",
    "                if plg[i][0] == 0:\n",
    "                    return i, 0\n",
    "                    break\n",
    "                elif plg[i][1] == 0:\n",
    "                    return i, 1\n",
    "                    break\n",
    "                else: \n",
    "                    return i, 2\n",
    "                    break\n",
    "            elif plg[0][i] + plg[1][i] + plg[2][i] == -2:  # checking opportunity in vertical (x3 columns)\n",
    "                found = True\n",
    "                if plg[0][i] == 0:\n",
    "                    return 0, i\n",
    "                    break\n",
    "                elif plg[1][i] == 0:\n",
    "                    return 1, i\n",
    "                    break\n",
    "                else:\n",
    "                    return 2, i\n",
    "                    break\n",
    "    \n",
    "    #defending ->> looking for alignment of two '1' and blocking the third\n",
    "    if plg[0][0] + plg[1][1] + plg[2][2] == 2:  # checking oportunity in diagonal\n",
    "        found = True\n",
    "        if plg[0][0] == 0:\n",
    "            return 0, 0\n",
    "        elif plg[1][1] == 0:\n",
    "            return 1, 1\n",
    "        else:\n",
    "            return 2, 2\n",
    "    elif plg[2][0] + plg[1][1] + plg[0][2] == 2:  # checking oportunity in other diagonal \n",
    "        found = True\n",
    "        if plg[2][0] == 0:\n",
    "            return 2, 0\n",
    "        elif plg[1][1] == 0:\n",
    "            return 1, 1\n",
    "        else:\n",
    "            return 0, 2\n",
    "    else:\n",
    "        for i in range(3):\n",
    "            if sum(plg[i]) == 2:  # checking opportunity in horitzontal (x3 rows)\n",
    "                found = True\n",
    "                if plg[i][0] == 0:\n",
    "                    return i, 0\n",
    "                    break\n",
    "                elif plg[i][1] == 0:\n",
    "                    return i, 1\n",
    "                    break\n",
    "                else: \n",
    "                    return i, 2\n",
    "                    break\n",
    "            elif plg[0][i] + plg[1][i] + plg[2][i] == 2:  # checking opportunity in vertical (x3 columns)\n",
    "                found = True\n",
    "                if plg[0][i] == 0:\n",
    "                    return 0, i\n",
    "                    break\n",
    "                elif plg[1][i] == 0:\n",
    "                    return 1, i\n",
    "                    break\n",
    "                else:\n",
    "                    return 2, i\n",
    "                    break  \n",
    "    # There's no opportunity to win or block: RANDOM GAME\n",
    "    if not found: \n",
    "        pc_x = random.randrange(0, 3)\n",
    "        pc_y = random.randrange(0, 3)\n",
    "        while not empty_cell(pc_x, pc_y):\n",
    "            pc_x = random.randrange(0, 3)\n",
    "            pc_y = random.randrange(0, 3)\n",
    "        return pc_x, pc_y\n",
    "\n",
    "# updates the variable plg filling the position (x,y) with or 1 or -1\n",
    "def update_plg_pc(bin, x, y):\n",
    "    plg[x][y] = bin"
   ]
  },
  {
   "cell_type": "code",
   "execution_count": 72,
   "metadata": {},
   "outputs": [
    {
     "name": "stdout",
     "output_type": "stream",
     "text": [
      "[0, 0, 0]\n",
      "[0, -1, 0]\n",
      "[0, 0, 0]\n",
      "------------------\n",
      "[0, 0, 0]\n",
      "[0, -1, 0]\n",
      "[0, 0, -1]\n",
      "------------------\n",
      "[-1, 0, 0]\n",
      "[0, -1, 0]\n",
      "[0, 0, -1]\n",
      "------------------\n",
      "[-1, -1, 0]\n",
      "[0, -1, 0]\n",
      "[0, 0, -1]\n",
      "------------------\n"
     ]
    }
   ],
   "source": [
    "\n",
    "plg = [[0, 0, 0], [0, 0, 0], [0, 0, 0]]\n",
    "\n",
    "x,y=pc_move()\n",
    "update_plg_pc(-1,x,y)\n",
    "print(plg[0])\n",
    "print(plg[1])\n",
    "print(plg[2])\n",
    "print('------------------')\n",
    "\n",
    "x,y=pc_move()\n",
    "update_plg_pc(-1,x,y)\n",
    "print(plg[0])\n",
    "print(plg[1])\n",
    "print(plg[2])\n",
    "print('------------------')\n",
    "\n",
    "x,y=pc_move()\n",
    "update_plg_pc(-1,x,y)\n",
    "print(plg[0])\n",
    "print(plg[1])\n",
    "print(plg[2])\n",
    "print('------------------')\n",
    "\n",
    "x,y=pc_move()\n",
    "update_plg_pc(-1,x,y)\n",
    "print(plg[0])\n",
    "print(plg[1])\n",
    "print(plg[2])\n",
    "print('------------------')\n",
    "\n"
   ]
  },
  {
   "cell_type": "code",
   "execution_count": 73,
   "metadata": {},
   "outputs": [
    {
     "name": "stdout",
     "output_type": "stream",
     "text": [
      "[-1, -1, -1]\n",
      "[0, -1, 0]\n",
      "[0, 0, -1]\n",
      "------------------\n"
     ]
    }
   ],
   "source": [
    "x,y=pc_move()\n",
    "update_plg_pc(-1,x,y)\n",
    "print(plg[0])\n",
    "print(plg[1])\n",
    "print(plg[2])\n",
    "print('------------------')"
   ]
  },
  {
   "cell_type": "code",
   "execution_count": 74,
   "metadata": {},
   "outputs": [
    {
     "name": "stdout",
     "output_type": "stream",
     "text": [
      "[-1, -1, -1]\n",
      "[0, -1, 0]\n",
      "[-1, 0, -1]\n",
      "------------------\n"
     ]
    }
   ],
   "source": [
    "x,y=pc_move()\n",
    "update_plg_pc(-1,x,y)\n",
    "print(plg[0])\n",
    "print(plg[1])\n",
    "print(plg[2])\n",
    "print('------------------')"
   ]
  },
  {
   "cell_type": "code",
   "execution_count": null,
   "metadata": {},
   "outputs": [],
   "source": []
  }
 ],
 "metadata": {
  "kernelspec": {
   "display_name": "Python 3",
   "language": "python",
   "name": "python3"
  },
  "language_info": {
   "codemirror_mode": {
    "name": "ipython",
    "version": 3
   },
   "file_extension": ".py",
   "mimetype": "text/x-python",
   "name": "python",
   "nbconvert_exporter": "python",
   "pygments_lexer": "ipython3",
   "version": "3.7.1"
  }
 },
 "nbformat": 4,
 "nbformat_minor": 2
}
